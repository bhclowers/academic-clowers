{
 "cells": [
  {
   "cell_type": "markdown",
   "metadata": {},
   "source": [
    "### Notes on Academic-Hugo website Management and Organization"
   ]
  },
  {
   "cell_type": "markdown",
   "metadata": {},
   "source": [
    "_______"
   ]
  },
  {
   "cell_type": "markdown",
   "metadata": {},
   "source": [
    "### How to add an author?"
   ]
  },
  {
   "cell_type": "markdown",
   "metadata": {},
   "source": [
    "Directory Structure:\n",
    "* academic\\content\n",
    "    * name of student/person\n",
    "        * _index.md\n",
    "        * avatar.jpg"
   ]
  },
  {
   "cell_type": "markdown",
   "metadata": {},
   "source": [
    "#### For each of the markdown files be sure to include the correct identification of the author \"type\""
   ]
  },
  {
   "cell_type": "markdown",
   "metadata": {},
   "source": [
    "_______"
   ]
  },
  {
   "cell_type": "markdown",
   "metadata": {},
   "source": [
    "### How to add a publication and include a link to the publication?"
   ]
  },
  {
   "cell_type": "markdown",
   "metadata": {},
   "source": [
    "[JabRef](https://discourse.jabref.org/) can accept a google scholar bibtex file and then can update and finally export a new bibtex that include the doi.\n",
    "Google Scholar does not do this natively.\n"
   ]
  },
  {
   "cell_type": "markdown",
   "metadata": {},
   "source": [
    "Using the following code it is possible to import all of the pubs into the content folder under the publications folder. \n",
    "To be clear, the bib text should be in the root folder and then by running it it will populate the publications folder"
   ]
  },
  {
   "cell_type": "markdown",
   "metadata": {},
   "source": [
    "`academic import --bibtex <path_to_your/publications.bib>`"
   ]
  },
  {
   "cell_type": "markdown",
   "metadata": {},
   "source": [
    "## Directory Structure"
   ]
  },
  {
   "cell_type": "markdown",
   "metadata": {},
   "source": [
    "`\n",
    "├───assets\n",
    "├───config\n",
    "│   └───_default\n",
    "│       ├───config.toml #shouldn't need too much editing\n",
    "│       ├───params.toml #review before posting\n",
    "│       ├───menus.toml  #order in which the md files in home are displayed\n",
    "│       └───languages.toml #address if needed but generally not edited\n",
    "├───content\n",
    "│   ├───authors         #contains all of the folders for each author/team member\n",
    "│   │   ├───admin       #PI info\n",
    "│   │   │   ├───_index.md    #required\n",
    "│   │   │   └───avatar.jpg   #needed to display a thumbnail of the individual\n",
    "│   │   └───studentName\n",
    "│   │       ├───_index.md\n",
    "│   │       └───avatar.jpg\n",
    "│   ├───home\n",
    "│   │   ├───about.md\n",
    "│   │   ├───accomplishments.md\n",
    "│   │   ├───contact.md\n",
    "│   │   ├───image01.md\n",
    "│   │   ├───lababout.md\n",
    "│   │   ├───posts.md\n",
    "│   │   ├───projects.md\n",
    "│   │   ├───publications.md\n",
    "│   │   ├───tags.md\n",
    "│   │   └───teamskills.md\n",
    "│   ├───post #all your post content\n",
    "│   │   ├───_index.md\n",
    "│   │   └───ionMobility_Calc.md\n",
    "│   ├───project\n",
    "│   │   └───projectName\n",
    "│   │       ├───featured.jpg\n",
    "│   │       └───index.md\n",
    "│   ├───publication\n",
    "│   │   └───clowers-2005-separation\n",
    "│   │       ├───clowers-2005-separation.bib\n",
    "│   │       └───index.md\n",
    "│   └───talk\n",
    "├───data\n",
    "├───resources\n",
    "├───scripts\n",
    "├───static\n",
    "│   ├───files\n",
    "│   │   └───CVs etc.\n",
    "│   └───img\n",
    "├───themes\n",
    "│   └───academic\n",
    "└───clowers.bib\n",
    "`"
   ]
  },
  {
   "cell_type": "markdown",
   "metadata": {},
   "source": [
    "### Example Author File: `_index.md`\n",
    "* Naming the image `avatar.jpg` in the same folder will ensure that image shows as a thumbnail on the main page. "
   ]
  },
  {
   "cell_type": "raw",
   "metadata": {},
   "source": [
    "---\n",
    "# Display name\n",
    "name: Cameron Naylor\n",
    "\n",
    "# Username (this should match the folder name)\n",
    "authors:\n",
    "- naylor\n",
    "\n",
    "# Is this the primary user of the site?\n",
    "superuser: false\n",
    "\n",
    "# Role/position\n",
    "role: Graduate Student (ABD)\n",
    "\n",
    "# Organizations/Affiliations\n",
    "organizations:\n",
    "- name: Washington State University\n",
    "  url: \"\"\n",
    "\n",
    "# Short bio (displayed in user profile at end of posts)\n",
    "bio: My research broadly focuses on the creation, detection, and chemistry of gas-phase ions in support of trace analytical endeavors. \n",
    "\n",
    "interests:\n",
    "- Ion Mobility Spectrometry\n",
    "- Mass Spectrometry\n",
    "\n",
    "education:\n",
    "  courses:\n",
    "  - course: BS in Chemistry\n",
    "    institution: NC\n",
    "    year: 2015\n",
    "\n",
    "\n",
    "# Social/Academic Networking\n",
    "# For available icons, see: https://sourcethemes.com/academic/docs/page-builder/#icons\n",
    "#   For an email link, use \"fas\" icon pack, \"envelope\" icon, and a link in the\n",
    "#   form \"mailto:your-email@example.com\" or \"#contact\" for contact widget.\n",
    "social:\n",
    "- icon: envelope\n",
    "  icon_pack: fas\n",
    "  link: '#contact'  # For a direct email link, use \"mailto:test@example.org\".\n",
    "- icon: twitter\n",
    "  icon_pack: fab\n",
    "  link: https://twitter.com/\n",
    "- icon: google-scholar\n",
    "  icon_pack: ai\n",
    "  link: https://scholar.google.com/\n",
    "- icon: github\n",
    "  icon_pack: fab\n",
    "  link: https://github.com/bhclowers\n",
    "# Link to a PDF of your resume/CV from the About widget.\n",
    "# To enable, copy your resume/CV to `static/files/cv.pdf` and uncomment the lines below.\n",
    "#- icon: cv\n",
    "#  icon_pack: ai\n",
    "#  link: files/naylor_cv.pdf\n",
    "\n",
    "# Enter email to display Gravatar (if Gravatar enabled in Config)\n",
    "email: \"\"\n",
    "\n",
    "# Organizational groups that you belong to (for People widget)\n",
    "#   Set this to `[]` or comment out if you are not using People widget.\n",
    "user_groups:\n",
    "- Graduate Students\n",
    "\n",
    "---\n",
    "\n",
    "Naylor is ABD. "
   ]
  },
  {
   "cell_type": "code",
   "execution_count": null,
   "metadata": {
    "collapsed": true
   },
   "outputs": [],
   "source": []
  },
  {
   "cell_type": "markdown",
   "metadata": {},
   "source": [
    "### Example Project File: `index.md`\n",
    "* Naming the image `featured.jpg` will ensure that image shows as a thumbnail on the main page. "
   ]
  },
  {
   "cell_type": "raw",
   "metadata": {},
   "source": [
    "---\n",
    "title: Open Source Ion Mobility Spectrometry\n",
    "summary: Pathway to high-performance, low-cost IMS\n",
    "tags:\n",
    "- OS-IMS\n",
    "- ion mobility\n",
    "date: 2016-04-27T00:00:00Z\n",
    "external_link: ''\n",
    "image:\n",
    "  caption: Open Source IMS Initiative\n",
    "  focal_point: Smart\n",
    "links: []\n",
    "url_code: ''\n",
    "url_pdf: ''\n",
    "url_slides: ''\n",
    "url_video: ''\n",
    "slides: ''\n",
    "\n",
    "---\n",
    "Following up on previous posts, we’ve finally released a major update to the Open Source IMS Initiative. Appearing now in [Hardware X](https://doi.org/10.1016/j.ohx.2018.e00030) we detail a new modular IMS design that is extremely flexible. Three of our ASMS 2018 posters feature data from these system and the are proving an invaluable new tool to our research infrastucture. Though the current systems are limited to lower temperature operation (i.e < 80 °C), the designs are readily adapted to Rogers material which is quite robust well above 200 °C. Another key adaptation making this design tractable is the new ion shutter design which uses 3 grids to create a set of well defined ion pulses. Though the BN-gates are attractive in that the physical structure is in a single plane, their construction is an art. Moreover, the fields established by the BN gates are also, by no means, fully planar. With the new design we can achieve that smooth field in the region surrounding the ion gate and still get extremely small ion gate pulse widths (i.e < 20 μs). If you are interested in some of the core details or have suggestions for improvement, come find us on github: [https://github.com/bhclowers/OS-IMS](https://github.com/bhclowers/OS-IMS \"https://github.com/bhclowers/OS-IMS\")"
   ]
  },
  {
   "cell_type": "code",
   "execution_count": null,
   "metadata": {
    "collapsed": true
   },
   "outputs": [],
   "source": []
  },
  {
   "cell_type": "code",
   "execution_count": null,
   "metadata": {
    "collapsed": true
   },
   "outputs": [],
   "source": []
  },
  {
   "cell_type": "code",
   "execution_count": null,
   "metadata": {
    "collapsed": true
   },
   "outputs": [],
   "source": []
  },
  {
   "cell_type": "code",
   "execution_count": null,
   "metadata": {
    "collapsed": true
   },
   "outputs": [],
   "source": []
  }
 ],
 "metadata": {
  "anaconda-cloud": {},
  "kernelspec": {
   "display_name": "Python [conda env:Anaconda3]",
   "language": "python",
   "name": "conda-env-Anaconda3-py"
  },
  "language_info": {
   "codemirror_mode": {
    "name": "ipython",
    "version": 3
   },
   "file_extension": ".py",
   "mimetype": "text/x-python",
   "name": "python",
   "nbconvert_exporter": "python",
   "pygments_lexer": "ipython3",
   "version": "3.5.2"
  }
 },
 "nbformat": 4,
 "nbformat_minor": 2
}
